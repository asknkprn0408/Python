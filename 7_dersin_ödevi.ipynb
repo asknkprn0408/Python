{
  "nbformat": 4,
  "nbformat_minor": 0,
  "metadata": {
    "colab": {
      "provenance": [],
      "authorship_tag": "ABX9TyPfhILt+nnd8XTjth3qYPpW",
      "include_colab_link": true
    },
    "kernelspec": {
      "name": "python3",
      "display_name": "Python 3"
    },
    "language_info": {
      "name": "python"
    }
  },
  "cells": [
    {
      "cell_type": "markdown",
      "metadata": {
        "id": "view-in-github",
        "colab_type": "text"
      },
      "source": [
        "<a href=\"https://colab.research.google.com/github/asknkprn0408/README.nd/blob/main/7_dersin_%C3%B6devi.ipynb\" target=\"_parent\"><img src=\"https://colab.research.google.com/assets/colab-badge.svg\" alt=\"Open In Colab\"/></a>"
      ]
    },
    {
      "cell_type": "code",
      "execution_count": 19,
      "metadata": {
        "colab": {
          "base_uri": "https://localhost:8080/"
        },
        "id": "pi7N1om67Zso",
        "outputId": "3707c2ce-07ee-46a9-926f-d22ff28bd42b"
      },
      "outputs": [
        {
          "output_type": "stream",
          "name": "stdout",
          "text": [
            "['cherry', 'pear', 'strawberry']\n"
          ]
        }
      ],
      "source": [
        "dm4 = [\"apple\", \"pear\", \"strawberry\"]\n",
        "\n",
        "dm4[0] =\"cherry\"\n",
        "\n",
        "print(dm4)"
      ]
    },
    {
      "cell_type": "code",
      "source": [
        "y = tuple([\"a\", \"b\", {\"a\": [1, 2, 3]}, 5, 6])\n",
        "print(y)"
      ],
      "metadata": {
        "colab": {
          "base_uri": "https://localhost:8080/"
        },
        "id": "EVxWqvGNBleD",
        "outputId": "8f474bc1-0def-47f1-fa9e-889fe77589fd"
      },
      "execution_count": 22,
      "outputs": [
        {
          "output_type": "stream",
          "name": "stdout",
          "text": [
            "('a', 'b', {'a': [1, 2, 3]}, 5, 6)\n"
          ]
        }
      ]
    },
    {
      "cell_type": "code",
      "source": [
        "my_dict = {1: 'A', tuple({2: 'B', 3: 'C'}): 'D'}\n",
        "print(my_dict)"
      ],
      "metadata": {
        "colab": {
          "base_uri": "https://localhost:8080/"
        },
        "id": "-oVzB9P3CcW7",
        "outputId": "4b431d39-7dc3-4f65-9932-8d177b1bd071"
      },
      "execution_count": 23,
      "outputs": [
        {
          "output_type": "stream",
          "name": "stdout",
          "text": [
            "{1: 'A', (2, 3): 'D'}\n"
          ]
        }
      ]
    },
    {
      "cell_type": "code",
      "source": [
        "kartSifresi = 2003\n",
        "bakiye = 1000\n",
        "denemeHakki = 3\n",
        "print(\"A Bankasına Hoşgeldiniz.\")\n",
        "kart_islem_durumu = True\n",
        "islemDurumu = True\n",
        "while islemDurumu:\n",
        "\n",
        "  girilenSifre = input(\"Kart Şifrenizi Giriniz:\")\n",
        "  if girilenSifre != kartSifresi:\n",
        "    print(\"Yanlış Şifre. Tekrar Deneyiniz.\")\n",
        "    denemeHakki -=1\n",
        "    print(denemeHakki, \"Deneme Hakkınız Kaldı.\")\n",
        "    if denemeHakki == 0:\n",
        "      print(\"Üzgünüz Hesabınız Bloke Edildi.\")\n",
        "      islemDurumu = False"
      ],
      "metadata": {
        "colab": {
          "base_uri": "https://localhost:8080/"
        },
        "id": "fmczzn2KCdd5",
        "outputId": "b8080e65-43e8-4198-8e13-68ed4e5b4aeb"
      },
      "execution_count": 25,
      "outputs": [
        {
          "output_type": "stream",
          "name": "stdout",
          "text": [
            "A Bankasına Hoşgeldiniz.\n",
            "Kart Şifrenizi Giriniz:2003\n",
            "Yanlış Şifre. Tekrar Deneyiniz.\n",
            "2 Deneme Hakkınız Kaldı.\n",
            "Kart Şifrenizi Giriniz:3323\n",
            "Yanlış Şifre. Tekrar Deneyiniz.\n",
            "1 Deneme Hakkınız Kaldı.\n",
            "Kart Şifrenizi Giriniz:33\n",
            "Yanlış Şifre. Tekrar Deneyiniz.\n",
            "0 Deneme Hakkınız Kaldı.\n",
            "Üzgünüz Hesabınız Bloke Edildi.\n"
          ]
        }
      ]
    },
    {
      "cell_type": "code",
      "source": [],
      "metadata": {
        "id": "MFDQoPq8CxnT"
      },
      "execution_count": null,
      "outputs": []
    }
  ]
}